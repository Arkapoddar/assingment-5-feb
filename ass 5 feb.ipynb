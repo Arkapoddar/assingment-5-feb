{
 "cells": [
  {
   "cell_type": "code",
   "execution_count": null,
   "id": "938f8379-37bc-4d7d-a736-1d7553076c35",
   "metadata": {},
   "outputs": [],
   "source": [
    "1>class= A class is a collection of objects. A class contains the blueprints or the prototype from which the objects are being created. It is a logical entity that contains some attributes and methods.\n",
    "\n",
    "\n",
    " object=The object is an entity that has a state and behavior associated with it. It may be any real-world object like a mouse, keyboard, chair, table, pen, etc. Integers, strings, floating-point numbers, even arrays, and dictionaries, are all objects.\n",
    "    \n",
    "    \n",
    "    # create class\n",
    "class Bike:\n",
    "    name = \"\"\n",
    "    gear = 0\n",
    "\n",
    "# create objects of class\n",
    "bike1 = Bike()"
   ]
  },
  {
   "cell_type": "code",
   "execution_count": null,
   "id": "508f7fce-1807-44cf-b14d-51b92e2ac7ab",
   "metadata": {},
   "outputs": [],
   "source": [
    "2> The four pillars of Oops\n",
    "1. Abstraction\n",
    "2. Encapsulation\n",
    "3. Inheritance\n",
    "4. Polymorphism"
   ]
  },
  {
   "cell_type": "code",
   "execution_count": null,
   "id": "a4e1044b-59e7-440f-9584-34b9ab465b5b",
   "metadata": {},
   "outputs": [],
   "source": [
    "3> __init__ is a special python method that runs whenever a new object is created. These types of functions are used to initialize the attributes of that class, E.g., if the class is Person, then the attributes will be name, age, etc."
   ]
  },
  {
   "cell_type": "code",
   "execution_count": null,
   "id": "5d357854-0700-47a1-8e3d-ea9c6556adcd",
   "metadata": {},
   "outputs": [],
   "source": [
    "4> The self variable is used to represent the instance of the class which is often used in object-oriented programming. It works as a reference to the object. Python uses the self parameter to refer to instance attributes and methods of the class."
   ]
  },
  {
   "cell_type": "code",
   "execution_count": null,
   "id": "d537b473-6743-4c34-ba4b-3c6f134a4c3a",
   "metadata": {},
   "outputs": [],
   "source": [
    "5>  Inheritance refers to the assets that an individual bequeaths to their loved ones after they pass away. An inheritance may contain cash, investments such as stocks or bonds, and other assets such as jewelry, automobiles, art, antiques, and real estate.\n",
    "\n",
    "\n",
    "There are five types of inheritances:\n",
    "Single Inheritance.\n",
    "Multiple Inheritance.\n",
    "Multilevel Inheritance.\n",
    "Hierarchical Inheritance.\n",
    "Hybrid Inheritance."
   ]
  }
 ],
 "metadata": {
  "kernelspec": {
   "display_name": "Python 3 (ipykernel)",
   "language": "python",
   "name": "python3"
  },
  "language_info": {
   "codemirror_mode": {
    "name": "ipython",
    "version": 3
   },
   "file_extension": ".py",
   "mimetype": "text/x-python",
   "name": "python",
   "nbconvert_exporter": "python",
   "pygments_lexer": "ipython3",
   "version": "3.10.8"
  }
 },
 "nbformat": 4,
 "nbformat_minor": 5
}
